{
 "cells": [
  {
   "cell_type": "code",
   "execution_count": 1,
   "metadata": {},
   "outputs": [],
   "source": [
    "import findspark\n",
    "findspark.init()"
   ]
  },
  {
   "cell_type": "code",
   "execution_count": 2,
   "metadata": {},
   "outputs": [],
   "source": [
    "from pyspark import SparkContext, SparkConf\n",
    "from pyspark.sql import SparkSession"
   ]
  },
  {
   "cell_type": "code",
   "execution_count": 3,
   "metadata": {},
   "outputs": [],
   "source": [
    "import pandas as pd"
   ]
  },
  {
   "cell_type": "markdown",
   "metadata": {},
   "source": [
    "# 1) Test with minio and spark"
   ]
  },
  {
   "cell_type": "markdown",
   "metadata": {},
   "source": [
    "### 1.1 Configure spark session"
   ]
  },
  {
   "cell_type": "code",
   "execution_count": 4,
   "metadata": {},
   "outputs": [],
   "source": [
    "conf = SparkConf().setAll([\n",
    "    (\"spark.driver.host\", \"research\"),\n",
    "    (\"spark.driver.port\", \"7001\"), \n",
    "    (\"spark.fileserver.port\", \"7002\"), \n",
    "    (\"spark.broadcast.port\", \"7003\") , \n",
    "    (\"spark.replClassServer.port\", \"7004\") ,\n",
    "    (\"spark.blockManager.port\", \"7005\"),\n",
    "    (\"spark.submit.deployMode\",'client'),\n",
    "    ('spark.executor.memory', '2g'), \n",
    "    ('spark.executor.cores', '2'), \n",
    "    ('spark.cores.max', '2'), \n",
    "    ('spark.driver.memory','8g')\n",
    "    \n",
    "]).setMaster(\"spark://master:7077\")\n",
    "\n",
    "sc = SparkContext( conf=conf)\n",
    "spark = SparkSession(sc).builder \\\n",
    "        .appName(\"test_app\") \\\n",
    "        .getOrCreate()\n",
    "\n",
    "spark._jsc.hadoopConfiguration().set(\"fs.s3a.access.key\", \"minio\")\n",
    "spark._jsc.hadoopConfiguration().set(\"fs.s3a.secret.key\", \"minio123\")\n",
    "spark._jsc.hadoopConfiguration().set(\"fs.s3a.impl\",\"org.apache.hadoop.fs.s3a.S3AFileSystem\")\n",
    "spark._jsc.hadoopConfiguration().set(\"fs.s3a.path.style.access\", \"true\")\n",
    "spark._jsc.hadoopConfiguration().set(\"fs.s3a.endpoint\", \"http://minio:9000\")"
   ]
  },
  {
   "cell_type": "markdown",
   "metadata": {},
   "source": [
    "### 1.2 Create test pandas dataframe"
   ]
  },
  {
   "cell_type": "code",
   "execution_count": 5,
   "metadata": {},
   "outputs": [
    {
     "data": {
      "text/html": [
       "<div>\n",
       "<style scoped>\n",
       "    .dataframe tbody tr th:only-of-type {\n",
       "        vertical-align: middle;\n",
       "    }\n",
       "\n",
       "    .dataframe tbody tr th {\n",
       "        vertical-align: top;\n",
       "    }\n",
       "\n",
       "    .dataframe thead th {\n",
       "        text-align: right;\n",
       "    }\n",
       "</style>\n",
       "<table border=\"1\" class=\"dataframe\">\n",
       "  <thead>\n",
       "    <tr style=\"text-align: right;\">\n",
       "      <th></th>\n",
       "      <th>a</th>\n",
       "      <th>b</th>\n",
       "    </tr>\n",
       "  </thead>\n",
       "  <tbody>\n",
       "    <tr>\n",
       "      <th>0</th>\n",
       "      <td>1</td>\n",
       "      <td>a</td>\n",
       "    </tr>\n",
       "    <tr>\n",
       "      <th>1</th>\n",
       "      <td>2</td>\n",
       "      <td>v</td>\n",
       "    </tr>\n",
       "    <tr>\n",
       "      <th>2</th>\n",
       "      <td>3</td>\n",
       "      <td>c</td>\n",
       "    </tr>\n",
       "    <tr>\n",
       "      <th>3</th>\n",
       "      <td>4</td>\n",
       "      <td>a</td>\n",
       "    </tr>\n",
       "    <tr>\n",
       "      <th>4</th>\n",
       "      <td>21</td>\n",
       "      <td>v</td>\n",
       "    </tr>\n",
       "  </tbody>\n",
       "</table>\n",
       "</div>"
      ],
      "text/plain": [
       "    a  b\n",
       "0   1  a\n",
       "1   2  v\n",
       "2   3  c\n",
       "3   4  a\n",
       "4  21  v"
      ]
     },
     "execution_count": 5,
     "metadata": {},
     "output_type": "execute_result"
    }
   ],
   "source": [
    "df_local = pd.DataFrame([(1,'a'),(2,'v'),(3,'c'),(4,'a'),(21,'v')], columns = ['a','b'])\n",
    "df_local "
   ]
  },
  {
   "cell_type": "code",
   "execution_count": 6,
   "metadata": {},
   "outputs": [
    {
     "name": "stdout",
     "output_type": "stream",
     "text": [
      "+---+---+\n",
      "|  a|  b|\n",
      "+---+---+\n",
      "|  1|  a|\n",
      "+---+---+\n",
      "only showing top 1 row\n",
      "\n"
     ]
    }
   ],
   "source": [
    "spark.createDataFrame(df_local).show(1)"
   ]
  },
  {
   "cell_type": "markdown",
   "metadata": {},
   "source": [
    "### 1.3 Create pyspark dataframe and write it to minio s3"
   ]
  },
  {
   "cell_type": "code",
   "execution_count": 7,
   "metadata": {},
   "outputs": [],
   "source": [
    "spark.createDataFrame(df_local).repartition(1)\\\n",
    ".write\\\n",
    ".mode('overwrite')\\\n",
    ".option(\"header\",\"true\")\\\n",
    ".csv(\"s3a://test/tmp\")"
   ]
  },
  {
   "cell_type": "markdown",
   "metadata": {},
   "source": [
    "### 1.4 Read this dataframe from s3 and create temporary view"
   ]
  },
  {
   "cell_type": "code",
   "execution_count": 8,
   "metadata": {},
   "outputs": [],
   "source": [
    "df = spark.read.csv(\"s3a://test/tmp/*.csv\", header = True)\n",
    "df.createOrReplaceTempView('tmp_table')"
   ]
  },
  {
   "cell_type": "markdown",
   "metadata": {},
   "source": [
    "### 1.5 Make new spark datafrme with aggregation "
   ]
  },
  {
   "cell_type": "code",
   "execution_count": 9,
   "metadata": {},
   "outputs": [
    {
     "name": "stdout",
     "output_type": "stream",
     "text": [
      "+---+------+\n",
      "|  b|a_mean|\n",
      "+---+------+\n",
      "|  v|  11.5|\n",
      "|  c|   3.0|\n",
      "|  a|   2.5|\n",
      "+---+------+\n",
      "\n"
     ]
    }
   ],
   "source": [
    "df_agg = spark\\\n",
    ".sql(\"\"\"\n",
    "SELECT \n",
    "b,\n",
    "avg(a) as a_mean\n",
    "FROM tmp_table \n",
    "GROUP BY b\n",
    "\"\"\")\n",
    "df_agg.show(5)"
   ]
  },
  {
   "cell_type": "markdown",
   "metadata": {},
   "source": [
    "### 1.6 Write aggregated df back to s3"
   ]
  },
  {
   "cell_type": "code",
   "execution_count": 10,
   "metadata": {},
   "outputs": [],
   "source": [
    "df_agg.repartition(1)\\\n",
    ".write\\\n",
    ".mode('overwrite')\\\n",
    ".option(\"header\",\"true\")\\\n",
    ".csv(\"s3a://test/tmp_agg\")"
   ]
  },
  {
   "cell_type": "markdown",
   "metadata": {},
   "source": [
    "# 2) minio S3 by boto3"
   ]
  },
  {
   "cell_type": "code",
   "execution_count": 11,
   "metadata": {},
   "outputs": [
    {
     "data": {
      "text/plain": [
       "[s3.ObjectSummary(bucket_name='test', key='tmp/_SUCCESS'),\n",
       " s3.ObjectSummary(bucket_name='test', key='tmp/part-00000-6103a198-4f42-4318-9158-279ea07134f0-c000.csv'),\n",
       " s3.ObjectSummary(bucket_name='test', key='tmp_agg/_SUCCESS'),\n",
       " s3.ObjectSummary(bucket_name='test', key='tmp_agg/part-00000-67ed529f-57b1-4ab8-8120-2a8a53814069-c000.csv')]"
      ]
     },
     "execution_count": 11,
     "metadata": {},
     "output_type": "execute_result"
    }
   ],
   "source": [
    "import boto3\n",
    "s3 = boto3.resource(\n",
    "    's3', \n",
    "    endpoint_url='http://minio:9000', \n",
    "    aws_access_key_id = 'minio', \n",
    "    aws_secret_access_key = 'minio123'\n",
    ")\n",
    "bucket = s3.Bucket('test')\n",
    "[obj for obj in bucket.objects.all()]"
   ]
  }
 ],
 "metadata": {
  "kernelspec": {
   "display_name": "Python 3",
   "language": "python",
   "name": "python3"
  },
  "language_info": {
   "codemirror_mode": {
    "name": "ipython",
    "version": 3
   },
   "file_extension": ".py",
   "mimetype": "text/x-python",
   "name": "python",
   "nbconvert_exporter": "python",
   "pygments_lexer": "ipython3",
   "version": "3.4.2"
  }
 },
 "nbformat": 4,
 "nbformat_minor": 2
}
